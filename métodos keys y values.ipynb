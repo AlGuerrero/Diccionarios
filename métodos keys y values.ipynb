{
 "cells": [
  {
   "cell_type": "markdown",
   "id": "a1c8bbc5-1cbb-4e63-8aa1-77d36df7654e",
   "metadata": {},
   "source": [
    "Bucles sobre claves y valores"
   ]
  },
  {
   "cell_type": "markdown",
   "id": "af557f28-beb5-4511-ad70-e72fd7d8a5ac",
   "metadata": {},
   "source": [
    "Puedes usar los métodos keys() y values() para ver las claves y los valores del diccionario, respectivamente. Estos métodos son útiles cuando quieres realizar operaciones solo en las claves o los valores, o cuando quieres comprobar si una clave o un valor en particular está presente en el diccionario.\n",
    "\n",
    "Para recorrer las claves en un diccionario, puedes usar el método keys(). Aquí te mostramos un ejemplo:"
   ]
  },
  {
   "cell_type": "code",
   "execution_count": 1,
   "id": "a1323dcc-ef9f-42e0-a714-e7e8fd988d2f",
   "metadata": {},
   "outputs": [
    {
     "name": "stdout",
     "output_type": "stream",
     "text": [
      "American Express\n",
      "Boeing\n",
      "Coca-Cola\n",
      "Walt Disney\n",
      "Nike\n",
      "JPMorgan\n",
      "Walmart\n"
     ]
    }
   ],
   "source": [
    "financial_info = {\n",
    "    'American Express': 93.23,\n",
    "    'Boeing': 178.44,\n",
    "    'Coca-Cola': 45.15,\n",
    "    'Walt Disney': 119.34,\n",
    "    'Nike': 97.99,\n",
    "    'JPMorgan':96.27,\n",
    "    'Walmart': 130.68 \n",
    "}\n",
    "\n",
    "for key in financial_info.keys():\n",
    "    print(key)"
   ]
  },
  {
   "cell_type": "markdown",
   "id": "6459cfce-07bf-4efc-998f-a8ff2e1aecd5",
   "metadata": {},
   "source": [
    "Para recorrer los valores en un diccionario, usemos el método values():"
   ]
  },
  {
   "cell_type": "code",
   "execution_count": 2,
   "id": "83158bac-ecea-498b-b042-063f279d70e4",
   "metadata": {},
   "outputs": [
    {
     "name": "stdout",
     "output_type": "stream",
     "text": [
      "93.23\n",
      "178.44\n",
      "45.15\n",
      "119.34\n",
      "97.99\n",
      "96.27\n",
      "130.68\n"
     ]
    }
   ],
   "source": [
    "financial_info = {\n",
    "    'American Express': 93.23,\n",
    "    'Boeing': 178.44,\n",
    "    'Coca-Cola': 45.15,\n",
    "    'Walt Disney': 119.34,\n",
    "    'Nike': 97.99,\n",
    "    'JPMorgan':96.27,\n",
    "    'Walmart': 130.68 \n",
    "}\n",
    "\n",
    "for value in financial_info.values():\n",
    "    print(value)"
   ]
  },
  {
   "cell_type": "code",
   "execution_count": null,
   "id": "4b2e0f8f-ecf4-458d-83f3-93f24f5392aa",
   "metadata": {},
   "outputs": [],
   "source": []
  }
 ],
 "metadata": {
  "kernelspec": {
   "display_name": "Python 3 (ipykernel)",
   "language": "python",
   "name": "python3"
  },
  "language_info": {
   "codemirror_mode": {
    "name": "ipython",
    "version": 3
   },
   "file_extension": ".py",
   "mimetype": "text/x-python",
   "name": "python",
   "nbconvert_exporter": "python",
   "pygments_lexer": "ipython3",
   "version": "3.13.7"
  }
 },
 "nbformat": 4,
 "nbformat_minor": 5
}
